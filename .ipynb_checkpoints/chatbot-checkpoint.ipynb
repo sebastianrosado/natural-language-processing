{
 "cells": [
  {
   "cell_type": "markdown",
   "metadata": {
    "colab_type": "text",
    "id": "rNqdLwvisRR0"
   },
   "source": [
    "# Chatbot"
   ]
  },
  {
   "cell_type": "markdown",
   "metadata": {
    "colab_type": "text",
    "id": "-Wax_Mm1sRR1"
   },
   "source": [
    "## 1. First, make some data preprocessing to clean up the data. You can use your solution to the assignment of the data preprocessing checkpoint of this module."
   ]
  },
  {
   "cell_type": "code",
   "execution_count": 1,
   "metadata": {
    "colab": {
     "base_uri": "https://localhost:8080/",
     "height": 156
    },
    "colab_type": "code",
    "executionInfo": {
     "elapsed": 7383,
     "status": "ok",
     "timestamp": 1568732669671,
     "user": {
      "displayName": "Yunus Bulut",
      "photoUrl": "",
      "userId": "10252913168794832935"
     },
     "user_tz": -120
    },
    "id": "zITt04QTsRR2",
    "outputId": "1efc7751-1d5b-4c7f-fd5c-ec2d63048105"
   },
   "outputs": [],
   "source": [
    "import matplotlib.pyplot as plt\n",
    "import numpy as np\n",
    "import pandas as pd\n",
    "from sqlalchemy import create_engine\n",
    "import nltk\n",
    "import spacy\n",
    "import re\n",
    "from chatterbot import ChatBot\n",
    "from chatterbot.trainers import ListTrainer, ChatterBotCorpusTrainer\n",
    "from chatterbot.conversation import Statement\n",
    "import random\n",
    "\n",
    "import warnings\n",
    "warnings.filterwarnings(action=\"ignore\")"
   ]
  },
  {
   "cell_type": "code",
   "execution_count": 6,
   "metadata": {
    "colab": {},
    "colab_type": "code",
    "id": "LC7JfFS_sRR6"
   },
   "outputs": [],
   "source": [
    "postgres_user = 'dsbc_student'\n",
    "postgres_pw = '7*.8G9QH21'\n",
    "postgres_host = '142.93.121.174'\n",
    "postgres_port = '5432'\n",
    "postgres_db = 'cornell_movie_dialogs'\n",
    "\n",
    "engine = create_engine('postgresql://{}:{}@{}:{}/{}'.format(\n",
    "    postgres_user, postgres_pw, postgres_host, postgres_port, postgres_db))\n",
    "\n",
    "dialogs_df = pd.read_sql_query('select * from dialogs',con=engine)\n",
    "\n",
    "# no need for an open connection, as we're only doing a single query\n",
    "engine.dispose()"
   ]
  },
  {
   "cell_type": "code",
   "execution_count": 7,
   "metadata": {
    "colab": {},
    "colab_type": "code",
    "id": "2T5fAceNsRR9"
   },
   "outputs": [],
   "source": [
    "nlp = spacy.load('en', disable=['parser', 'ner'])\n",
    "nlp.add_pipe(nlp.create_pipe('sentencizer'))\n",
    "\n",
    "# below is necessary to avoid memory error of SpaCy\n",
    "nlp.max_length = 20000000\n",
    "\n",
    "# all the processing work is done below, so it may take a while\n",
    "dialogs_doc = nlp(\" \".join(dialogs_df.dialogs))"
   ]
  },
  {
   "cell_type": "code",
   "execution_count": 13,
   "metadata": {
    "colab": {},
    "colab_type": "code",
    "id": "iF8t4ngFuUHk"
   },
   "outputs": [],
   "source": [
    "dialog_sents = [sent.text for sent in dialogs_doc.sents if len(sent.text) > 1]"
   ]
  },
  {
   "cell_type": "markdown",
   "metadata": {
    "colab_type": "text",
    "id": "-nGE_yOlsRSG"
   },
   "source": [
    "## 2. Develop a chatbot using this corpus. In doing this, you're free to choose a chatbot development libary like ChatterBot or to write your own code from scratch."
   ]
  },
  {
   "cell_type": "code",
   "execution_count": 14,
   "metadata": {
    "colab": {},
    "colab_type": "code",
    "id": "ZN3M5hZW53tI"
   },
   "outputs": [],
   "source": [
    "GREETING_INPUTS = [\"hello\", \"hi\", \"greetings\", \"what's up\",\"hey\"]\n",
    "GREETING_RESPONSES = [\"hello\", \"hi\", \"hey\", \"hi there\"]\n",
    "\n",
    "def greeting(sentence):\n",
    "    for word in sentence.split():\n",
    "        if word.lower() in GREETING_INPUTS:\n",
    "            return random.choice(GREETING_RESPONSES)"
   ]
  },
  {
   "cell_type": "code",
   "execution_count": 1,
   "metadata": {
    "colab": {
     "base_uri": "https://localhost:8080/",
     "height": 136
    },
    "colab_type": "code",
    "executionInfo": {
     "elapsed": 1154861,
     "status": "ok",
     "timestamp": 1568735155366,
     "user": {
      "displayName": "Yunus Bulut",
      "photoUrl": "",
      "userId": "10252913168794832935"
     },
     "user_tz": -120
    },
    "id": "ikUbA7qMsRSI",
    "outputId": "2ecde1b9-d500-451f-a264-b662f01b13ab"
   },
   "outputs": [],
   "source": [
    "# create a chatbot\n",
    "chatbot = ChatBot('Dialogs')\n",
    "# this is to remove the accumulated knowledge base\n",
    "chatbot.storage.drop()\n",
    "\n",
    "# create a new trainer for the chatbot\n",
    "trainer = ListTrainer(chatbot)\n",
    "\n",
    "# train the chatbot\n",
    "trainer.train(dialog_sents)"
   ]
  },
  {
   "cell_type": "markdown",
   "metadata": {
    "colab_type": "text",
    "id": "hfUp0RgqsRSM"
   },
   "source": [
    "## 3. Make a conversation with your chatbot and discuss the strengths and weaknesses of it."
   ]
  },
  {
   "cell_type": "code",
   "execution_count": 0,
   "metadata": {
    "colab": {},
    "colab_type": "code",
    "id": "uQsVqbUy6DTB"
   },
   "outputs": [],
   "source": [
    "import random"
   ]
  },
  {
   "cell_type": "code",
   "execution_count": 13,
   "metadata": {
    "colab": {
     "base_uri": "https://localhost:8080/",
     "height": 714
    },
    "colab_type": "code",
    "executionInfo": {
     "elapsed": 337238,
     "status": "ok",
     "timestamp": 1568735596911,
     "user": {
      "displayName": "Yunus Bulut",
      "photoUrl": "",
      "userId": "10252913168794832935"
     },
     "user_tz": -120
    },
    "id": "y9RsdAEssRSN",
    "outputId": "58a3df86-1ad7-45bc-e21c-666aacefe17a",
    "scrolled": true
   },
   "outputs": [
    {
     "name": "stdout",
     "output_type": "stream",
     "text": [
      "Cornell: I will try to respond you reasonably. If you want to exit, type bye please.\n",
      "User: Hello\n",
      "Cornell: hello\n",
      "User: Do you enjoy watching movies?\n",
      "Cornell: Made me sick, but what did I care?\n",
      "User: Oh! Well, how are you then?\n",
      "Cornell: I just struck it rich... I think we can do a little business.\n",
      "User: What kind of business?\n",
      "Cornell: Black market art.\n",
      "User: Oh no. I prefer talking about movies.\n",
      "Cornell: Why?\n",
      "User: Because, I'm kind of a descent person and like to respect the rule of law.\n",
      "Cornell: Who?\n",
      "User: Me.\n",
      "Cornell: This endless ...blonde babble.\n",
      "User: Anyway, do you know something about technology?\n",
      "Cornell: I believe we share an art instructor Have fun tonight?\n",
      "User: No. What about artificial intelligence?\n",
      "Cornell: Something, apperently, of an unknown origin.\n",
      "User: Definitely.\n",
      "Cornell: I heard what happened.\n",
      "User: What happened?\n",
      "Cornell: We and my pal here have been taking it on the chin for the last few hours... You real down?\n",
      "User: Hmm, I think I need to go now.\n",
      "Cornell: Well, no... Then that's all you had to say.\n",
      "User: Yes, sorry. I need to work on my natural language processing homework.\n",
      "Cornell: Wow Let's go.\n",
      "User: Do you also enjoy natural language processing?\n",
      "Cornell: I heard enough of it in school!\n",
      "User: That's great!\n",
      "Cornell: If not, speak now.\n",
      "User: Sorry but I have to go.\n",
      "Cornell: Well, no... Then that's all you had to say.\n",
      "User: Yes. Bye!\n",
      "Cornell: Bastard.\n",
      "User: I wasn't expecting this.\n",
      "Cornell: He owes me money... I hear you've got visitors.\n",
      "User: No.\n",
      "Cornell: I found a picture of Jared Leto in one of her drawers, so I'm pretty sure she's not harboring same-sex tendencies.\n",
      "User: Bye\n",
      "Cornell: Bye! It was a great chat.\n"
     ]
    }
   ],
   "source": [
    "print(\"Cornell: I will try to respond you reasonably. If you want to exit, type bye please.\")\n",
    "\n",
    "# below is the chatting\n",
    "while True:\n",
    "    \n",
    "    user_input = input(\"User: \")\n",
    "    user_input=user_input.lower()\n",
    "    \n",
    "    if(user_input!='bye'):\n",
    "        if(user_input == 'thanks' or user_input == 'thank you'):\n",
    "            break\n",
    "            print(\"Cornell: You're welcome.\")\n",
    "        else:\n",
    "            if(greeting(user_input) != None):\n",
    "                print(\"Cornell: \" + greeting(user_input))\n",
    "            else:\n",
    "                print(\"Cornell: \", end = \"\")\n",
    "                print(chatbot.get_response(user_input))\n",
    "    else:\n",
    "        print(\"Cornell: Bye! It was a great chat.\")\n",
    "        break"
   ]
  },
  {
   "cell_type": "markdown",
   "metadata": {},
   "source": [
    "We have some odd hits where dialogue approximates coherence, but generally it seems like the model requires a larger dataset or more tuning."
   ]
  },
  {
   "cell_type": "markdown",
   "metadata": {},
   "source": [
    "Ran into some issues with spacy dependencies, will discuss with mentor."
   ]
  }
 ],
 "metadata": {
  "colab": {
   "collapsed_sections": [],
   "machine_shape": "hm",
   "name": "7.solution_chatbot.ipynb",
   "provenance": [],
   "version": "0.3.2"
  },
  "kernelspec": {
   "display_name": "Python 3",
   "language": "python",
   "name": "python3"
  },
  "language_info": {
   "codemirror_mode": {
    "name": "ipython",
    "version": 3
   },
   "file_extension": ".py",
   "mimetype": "text/x-python",
   "name": "python",
   "nbconvert_exporter": "python",
   "pygments_lexer": "ipython3",
   "version": "3.7.6"
  },
  "latex_envs": {
   "LaTeX_envs_menu_present": true,
   "autoclose": false,
   "autocomplete": true,
   "bibliofile": "biblio.bib",
   "cite_by": "apalike",
   "current_citInitial": 1,
   "eqLabelWithNumbers": true,
   "eqNumInitial": 1,
   "hotkeys": {
    "equation": "Ctrl-E",
    "itemize": "Ctrl-I"
   },
   "labels_anchors": false,
   "latex_user_defs": false,
   "report_style_numbering": false,
   "user_envs_cfg": false
  },
  "varInspector": {
   "cols": {
    "lenName": 16,
    "lenType": 16,
    "lenVar": 40
   },
   "kernels_config": {
    "python": {
     "delete_cmd_postfix": "",
     "delete_cmd_prefix": "del ",
     "library": "var_list.py",
     "varRefreshCmd": "print(var_dic_list())"
    },
    "r": {
     "delete_cmd_postfix": ") ",
     "delete_cmd_prefix": "rm(",
     "library": "var_list.r",
     "varRefreshCmd": "cat(var_dic_list()) "
    }
   },
   "types_to_exclude": [
    "module",
    "function",
    "builtin_function_or_method",
    "instance",
    "_Feature"
   ],
   "window_display": false
  }
 },
 "nbformat": 4,
 "nbformat_minor": 1
}
